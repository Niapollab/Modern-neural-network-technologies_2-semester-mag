{
 "cells": [
  {
   "cell_type": "markdown",
   "metadata": {},
   "source": [
    "# Лабораторная работа №3 \"Дообучение на основе GPT-2\""
   ]
  },
  {
   "cell_type": "code",
   "execution_count": null,
   "metadata": {},
   "outputs": [],
   "source": [
    "# https://habr.com/ru/articles/859250/#comment_27576236\n",
    "\n",
    "from transformers import (\n",
    "    GPT2LMHeadModel,\n",
    "    GPT2Tokenizer,\n",
    "    TextDataset,\n",
    "    DataCollatorForLanguageModeling,\n",
    "    Trainer,\n",
    "    TrainingArguments\n",
    ")\n",
    "from os import path\n",
    "import matplotlib.pyplot as plt\n",
    "import re\n",
    "import requests\n",
    "import torch\n",
    "\n",
    "\n",
    "FILENAME = r'data/gariki_igor_guberman.txt'\n",
    "END_OF_TEXT_TOKEN = '<|endoftext|>'\n",
    "DEVICE = torch.device('cuda' if torch.cuda.is_available() else 'cpu')\n",
    "\n",
    "\n",
    "def export_data() -> str:\n",
    "    URL = 'https://www.booksite.ru/localtxt/gub/erm/an/guberman_i/gariki/'\n",
    "    PAGE_COUNT = 3\n",
    "\n",
    "    PRE_PATTERN = re.compile(r'<pre>(.*?)</pre>', re.S)\n",
    "    TAG_PATTERN = re.compile(r'<.*?>', re.S)\n",
    "    MULTI_SPACE_PATTERN = re.compile(r'\\s+')\n",
    "\n",
    "    result = []\n",
    "    for page in range(1, PAGE_COUNT + 1):\n",
    "        url = f'{URL}/{page}.htm'\n",
    "\n",
    "        with requests.get(url) as response:\n",
    "            response.encoding = 'cp1251'\n",
    "            for pre in PRE_PATTERN.finditer(response.text):\n",
    "                for line in TAG_PATTERN.sub('', pre[1]).split('\\n'):\n",
    "                    striped = line.strip()\n",
    "                    striped = MULTI_SPACE_PATTERN.sub(' ', striped)\n",
    "                    result.append(striped if striped else END_OF_TEXT_TOKEN)\n",
    "\n",
    "    return '\\n'.join(result)\n",
    "\n",
    "\n",
    "def build_poem(generated_text: str) -> str:\n",
    "    SENTENCE_COUNT = 4\n",
    "    NEW_LINES_PATTERN = re.compile(r'\\n+')\n",
    "    TAG_PATTERN = re.compile(r'<.*?>', re.S)\n",
    "\n",
    "    result = NEW_LINES_PATTERN.sub('\\n', generated_text)\n",
    "    result = TAG_PATTERN.sub('', result)\n",
    "    result = '\\n'.join(line.strip() for line in result.split('\\n')[:SENTENCE_COUNT])\n",
    "\n",
    "    return result"
   ]
  },
  {
   "cell_type": "markdown",
   "metadata": {},
   "source": [
    "## Подготовка данных"
   ]
  },
  {
   "cell_type": "code",
   "execution_count": null,
   "metadata": {},
   "outputs": [],
   "source": [
    "try:\n",
    "    with open(FILENAME, 'r', encoding='utf-8') as file:\n",
    "        data = file.read()\n",
    "except Exception:\n",
    "    data = export_data()\n",
    "    with open(FILENAME, 'w', encoding='utf-8') as file:\n",
    "        file.write(data)"
   ]
  },
  {
   "cell_type": "code",
   "execution_count": null,
   "metadata": {},
   "outputs": [],
   "source": [
    "poems = [\n",
    "    [word for word in re.findall(r'\\b(\\w*?)\\b', poem.strip()) if word]\n",
    "    for poem in data.split(END_OF_TEXT_TOKEN)\n",
    "]\n",
    "poems_len = [len(poem) for poem in poems]\n",
    "\n",
    "plt.hist(poems_len, bins=10, color='blue', edgecolor='black')\n",
    "\n",
    "plt.xlabel('Число слов')\n",
    "plt.ylabel('Частота')\n",
    "plt.title('Число слов приходящихся на одно стихотворение')\n",
    "\n",
    "plt.show()"
   ]
  },
  {
   "cell_type": "markdown",
   "metadata": {},
   "source": [
    "## Обучение модели"
   ]
  },
  {
   "cell_type": "code",
   "execution_count": null,
   "metadata": {},
   "outputs": [],
   "source": [
    "PRETRAINED_MODEL_PATH = 'sberbank-ai/rugpt3large_based_on_gpt2'\n",
    "MODEL_PATH = 'guberai'\n",
    "\n",
    "model_path = MODEL_PATH if path.exists(MODEL_PATH) else PRETRAINED_MODEL_PATH\n",
    "\n",
    "tokenizer = GPT2Tokenizer.from_pretrained(PRETRAINED_MODEL_PATH)\n",
    "model = GPT2LMHeadModel.from_pretrained(model_path).to(DEVICE)  # type: ignore"
   ]
  },
  {
   "cell_type": "code",
   "execution_count": null,
   "metadata": {},
   "outputs": [],
   "source": [
    "EPOCHS = 30\n",
    "LR = 1e-5\n",
    "BATCH_SIZE = 32\n",
    "WARMUP_STEPS = 10\n",
    "GRADIENT_ACCUMULATION_STEPS = 16\n",
    "\n",
    "train_dataset = TextDataset(\n",
    "    tokenizer=tokenizer, file_path=FILENAME, block_size=BATCH_SIZE\n",
    ")\n",
    "data_collator = DataCollatorForLanguageModeling(tokenizer=tokenizer, mlm=False)\n",
    "\n",
    "training_args = TrainingArguments(\n",
    "    gradient_accumulation_steps=GRADIENT_ACCUMULATION_STEPS,\n",
    "    load_best_model_at_end=False,\n",
    "    num_train_epochs=EPOCHS,\n",
    "    output_dir=MODEL_PATH,\n",
    "    overwrite_output_dir=True,\n",
    "    per_device_eval_batch_size=BATCH_SIZE,\n",
    "    per_device_train_batch_size=BATCH_SIZE,\n",
    "    save_steps=1,\n",
    "    save_total_limit=1,\n",
    "    warmup_steps=WARMUP_STEPS\n",
    ")\n",
    "trainer = Trainer(\n",
    "    model=model,\n",
    "    args=training_args,\n",
    "    data_collator=data_collator,\n",
    "    train_dataset=train_dataset,\n",
    "    optimizers=(torch.optim.AdamW(model.parameters(), lr=LR), None)  # type: ignore\n",
    ")\n",
    "\n",
    "trainer.train()\n",
    "trainer.save_model()"
   ]
  },
  {
   "cell_type": "markdown",
   "metadata": {},
   "source": [
    "## Тестирование модели"
   ]
  },
  {
   "cell_type": "code",
   "execution_count": null,
   "metadata": {},
   "outputs": [],
   "source": [
    "MAX_LENGTH = 60\n",
    "NUM_BEAMS = 2\n",
    "TEMPERATURE = 1.6\n",
    "TOP_P = 0.9\n",
    "\n",
    "INPUTS = [\n",
    "    'За радости любовных ощущений\\nОднажды острой болью заплатив,',\n",
    "    'Люблю людей и по наивности\\nОткрыто с ними говорю.',\n",
    "    'Глупо думать про лень негативно\\nИ надменно о ней отзываться:',\n",
    "    'Всему ища вину вовне,\\nЯ злился так, что лез из кожи,',\n",
    "    'Давно уже две жизни я живу,\\nОдной — внутри себя, другой — наружно;',\n",
    "    'Не зря я пью вино на склоне дня,\\nЗаслужена его глухая власть;',\n",
    "    'Эта мысль — украденный цветок,\\nПросто рифма ей не повредит:',\n",
    "    'Однажды летом в январе\\nСлона увидел я в ведре,',\n",
    "    'Бывают лампы в сотни ватт,\\nНо свет их резок и увечен,',\n",
    "    'Когда мы раздражаемся и злы,\\nОбижены, по сути, мы на то,'\n",
    "]\n",
    "\n",
    "model.eval()\n",
    "\n",
    "for element in INPUTS:\n",
    "    input_ids = tokenizer.encode(element, return_tensors='pt').to(DEVICE)\n",
    "\n",
    "    with torch.no_grad():\n",
    "        out = model.generate(\n",
    "            input_ids,\n",
    "            do_sample=True,\n",
    "            num_beams=NUM_BEAMS,\n",
    "            temperature=TEMPERATURE,\n",
    "            top_p=TOP_P,\n",
    "            max_length=MAX_LENGTH\n",
    "        )\n",
    "    generated_text, *_ = (tokenizer.decode(token) for token in out)\n",
    "    poem = build_poem(generated_text)\n",
    "\n",
    "    print(poem)\n",
    "    print('-' * 20)"
   ]
  }
 ],
 "metadata": {
  "kernelspec": {
   "display_name": ".venv",
   "language": "python",
   "name": "python3"
  },
  "language_info": {
   "codemirror_mode": {
    "name": "ipython",
    "version": 3
   },
   "file_extension": ".py",
   "mimetype": "text/x-python",
   "name": "python",
   "nbconvert_exporter": "python",
   "pygments_lexer": "ipython3",
   "version": "3.11.1"
  }
 },
 "nbformat": 4,
 "nbformat_minor": 2
}
